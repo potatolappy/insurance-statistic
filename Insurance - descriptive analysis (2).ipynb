{
 "cells": [
  {
   "cell_type": "code",
   "execution_count": 2,
   "id": "a455f5d9",
   "metadata": {},
   "outputs": [],
   "source": [
    "import pandas as pd\n",
    "import numpy as np\n",
    "import matplotlib.pyplot as plt\n",
    "import seaborn as sns\n",
    "import warnings"
   ]
  },
  {
   "cell_type": "code",
   "execution_count": 4,
   "id": "4dc91da9",
   "metadata": {},
   "outputs": [
    {
     "data": {
      "text/html": [
       "<div>\n",
       "<style scoped>\n",
       "    .dataframe tbody tr th:only-of-type {\n",
       "        vertical-align: middle;\n",
       "    }\n",
       "\n",
       "    .dataframe tbody tr th {\n",
       "        vertical-align: top;\n",
       "    }\n",
       "\n",
       "    .dataframe thead th {\n",
       "        text-align: right;\n",
       "    }\n",
       "</style>\n",
       "<table border=\"1\" class=\"dataframe\">\n",
       "  <thead>\n",
       "    <tr style=\"text-align: right;\">\n",
       "      <th></th>\n",
       "      <th>age</th>\n",
       "      <th>sex</th>\n",
       "      <th>bmi</th>\n",
       "      <th>children</th>\n",
       "      <th>smoker</th>\n",
       "      <th>region</th>\n",
       "      <th>charges</th>\n",
       "    </tr>\n",
       "  </thead>\n",
       "  <tbody>\n",
       "    <tr>\n",
       "      <th>0</th>\n",
       "      <td>19</td>\n",
       "      <td>female</td>\n",
       "      <td>27.900</td>\n",
       "      <td>0</td>\n",
       "      <td>yes</td>\n",
       "      <td>southwest</td>\n",
       "      <td>16884.92400</td>\n",
       "    </tr>\n",
       "    <tr>\n",
       "      <th>1</th>\n",
       "      <td>18</td>\n",
       "      <td>male</td>\n",
       "      <td>33.770</td>\n",
       "      <td>1</td>\n",
       "      <td>no</td>\n",
       "      <td>southeast</td>\n",
       "      <td>1725.55230</td>\n",
       "    </tr>\n",
       "    <tr>\n",
       "      <th>2</th>\n",
       "      <td>28</td>\n",
       "      <td>male</td>\n",
       "      <td>33.000</td>\n",
       "      <td>3</td>\n",
       "      <td>no</td>\n",
       "      <td>southeast</td>\n",
       "      <td>4449.46200</td>\n",
       "    </tr>\n",
       "    <tr>\n",
       "      <th>3</th>\n",
       "      <td>33</td>\n",
       "      <td>male</td>\n",
       "      <td>22.705</td>\n",
       "      <td>0</td>\n",
       "      <td>no</td>\n",
       "      <td>northwest</td>\n",
       "      <td>21984.47061</td>\n",
       "    </tr>\n",
       "    <tr>\n",
       "      <th>4</th>\n",
       "      <td>32</td>\n",
       "      <td>male</td>\n",
       "      <td>28.880</td>\n",
       "      <td>0</td>\n",
       "      <td>no</td>\n",
       "      <td>northwest</td>\n",
       "      <td>3866.85520</td>\n",
       "    </tr>\n",
       "  </tbody>\n",
       "</table>\n",
       "</div>"
      ],
      "text/plain": [
       "   age     sex     bmi  children smoker     region      charges\n",
       "0   19  female  27.900         0    yes  southwest  16884.92400\n",
       "1   18    male  33.770         1     no  southeast   1725.55230\n",
       "2   28    male  33.000         3     no  southeast   4449.46200\n",
       "3   33    male  22.705         0     no  northwest  21984.47061\n",
       "4   32    male  28.880         0     no  northwest   3866.85520"
      ]
     },
     "execution_count": 4,
     "metadata": {},
     "output_type": "execute_result"
    }
   ],
   "source": [
    "# import dataset\n",
    "\n",
    "df = pd.read_csv('D:\\\\DS\\\\Probability Exam\\\\insurance.csv')\n",
    "df.head()"
   ]
  },
  {
   "cell_type": "code",
   "execution_count": 5,
   "id": "eeb03b46",
   "metadata": {},
   "outputs": [
    {
     "data": {
      "text/plain": [
       "age         0\n",
       "sex         0\n",
       "bmi         0\n",
       "children    0\n",
       "smoker      0\n",
       "region      0\n",
       "charges     0\n",
       "dtype: int64"
      ]
     },
     "execution_count": 5,
     "metadata": {},
     "output_type": "execute_result"
    }
   ],
   "source": [
    "# checking null data\n",
    "\n",
    "df.isnull().sum()"
   ]
  },
  {
   "cell_type": "code",
   "execution_count": 6,
   "id": "4770d7a5",
   "metadata": {},
   "outputs": [
    {
     "name": "stdout",
     "output_type": "stream",
     "text": [
      "<class 'pandas.core.frame.DataFrame'>\n",
      "RangeIndex: 1338 entries, 0 to 1337\n",
      "Data columns (total 7 columns):\n",
      " #   Column    Non-Null Count  Dtype  \n",
      "---  ------    --------------  -----  \n",
      " 0   age       1338 non-null   int64  \n",
      " 1   sex       1338 non-null   object \n",
      " 2   bmi       1338 non-null   float64\n",
      " 3   children  1338 non-null   int64  \n",
      " 4   smoker    1338 non-null   object \n",
      " 5   region    1338 non-null   object \n",
      " 6   charges   1338 non-null   float64\n",
      "dtypes: float64(2), int64(2), object(3)\n",
      "memory usage: 73.3+ KB\n"
     ]
    }
   ],
   "source": [
    "# checking data info\n",
    "\n",
    "df.info()"
   ]
  },
  {
   "cell_type": "code",
   "execution_count": 7,
   "id": "b04ce261",
   "metadata": {},
   "outputs": [
    {
     "data": {
      "text/html": [
       "<div>\n",
       "<style scoped>\n",
       "    .dataframe tbody tr th:only-of-type {\n",
       "        vertical-align: middle;\n",
       "    }\n",
       "\n",
       "    .dataframe tbody tr th {\n",
       "        vertical-align: top;\n",
       "    }\n",
       "\n",
       "    .dataframe thead th {\n",
       "        text-align: right;\n",
       "    }\n",
       "</style>\n",
       "<table border=\"1\" class=\"dataframe\">\n",
       "  <thead>\n",
       "    <tr style=\"text-align: right;\">\n",
       "      <th></th>\n",
       "      <th>age</th>\n",
       "      <th>bmi</th>\n",
       "      <th>children</th>\n",
       "      <th>charges</th>\n",
       "    </tr>\n",
       "  </thead>\n",
       "  <tbody>\n",
       "    <tr>\n",
       "      <th>count</th>\n",
       "      <td>1338.0</td>\n",
       "      <td>1338.0</td>\n",
       "      <td>1338.0</td>\n",
       "      <td>1338.0</td>\n",
       "    </tr>\n",
       "    <tr>\n",
       "      <th>mean</th>\n",
       "      <td>39.2</td>\n",
       "      <td>30.7</td>\n",
       "      <td>1.1</td>\n",
       "      <td>13270.4</td>\n",
       "    </tr>\n",
       "    <tr>\n",
       "      <th>std</th>\n",
       "      <td>14.0</td>\n",
       "      <td>6.1</td>\n",
       "      <td>1.2</td>\n",
       "      <td>12110.0</td>\n",
       "    </tr>\n",
       "    <tr>\n",
       "      <th>min</th>\n",
       "      <td>18.0</td>\n",
       "      <td>16.0</td>\n",
       "      <td>0.0</td>\n",
       "      <td>1121.9</td>\n",
       "    </tr>\n",
       "    <tr>\n",
       "      <th>25%</th>\n",
       "      <td>27.0</td>\n",
       "      <td>26.3</td>\n",
       "      <td>0.0</td>\n",
       "      <td>4740.3</td>\n",
       "    </tr>\n",
       "    <tr>\n",
       "      <th>50%</th>\n",
       "      <td>39.0</td>\n",
       "      <td>30.4</td>\n",
       "      <td>1.0</td>\n",
       "      <td>9382.0</td>\n",
       "    </tr>\n",
       "    <tr>\n",
       "      <th>75%</th>\n",
       "      <td>51.0</td>\n",
       "      <td>34.7</td>\n",
       "      <td>2.0</td>\n",
       "      <td>16639.9</td>\n",
       "    </tr>\n",
       "    <tr>\n",
       "      <th>max</th>\n",
       "      <td>64.0</td>\n",
       "      <td>53.1</td>\n",
       "      <td>5.0</td>\n",
       "      <td>63770.4</td>\n",
       "    </tr>\n",
       "  </tbody>\n",
       "</table>\n",
       "</div>"
      ],
      "text/plain": [
       "          age     bmi  children  charges\n",
       "count  1338.0  1338.0    1338.0   1338.0\n",
       "mean     39.2    30.7       1.1  13270.4\n",
       "std      14.0     6.1       1.2  12110.0\n",
       "min      18.0    16.0       0.0   1121.9\n",
       "25%      27.0    26.3       0.0   4740.3\n",
       "50%      39.0    30.4       1.0   9382.0\n",
       "75%      51.0    34.7       2.0  16639.9\n",
       "max      64.0    53.1       5.0  63770.4"
      ]
     },
     "execution_count": 7,
     "metadata": {},
     "output_type": "execute_result"
    }
   ],
   "source": [
    "# checking outliers, std deviation, means and median etc\n",
    "\n",
    "df.describe().round(1)"
   ]
  },
  {
   "cell_type": "code",
   "execution_count": 8,
   "id": "10171384",
   "metadata": {},
   "outputs": [],
   "source": [
    "# here we noticed that charges column supposed to dont have a normal distribution. Let's take a look further"
   ]
  },
  {
   "cell_type": "code",
   "execution_count": 9,
   "id": "70a060e5",
   "metadata": {},
   "outputs": [],
   "source": [
    "# styling\n",
    "\n",
    "sns.set_style('whitegrid')\n",
    "warnings.filterwarnings('ignore')"
   ]
  },
  {
   "cell_type": "code",
   "execution_count": 10,
   "id": "f0c26ae3",
   "metadata": {},
   "outputs": [
    {
     "data": {
      "text/plain": [
       "<Axes: xlabel='bmi', ylabel='Density'>"
      ]
     },
     "execution_count": 10,
     "metadata": {},
     "output_type": "execute_result"
    },
    {
     "data": {
      "image/png": "[encoded data removed]",
      "text/plain": [
       "<Figure size 640x480 with 1 Axes>"
      ]
     },
     "metadata": {},
     "output_type": "display_data"
    }
   ],
   "source": [
    "# looking at BMI distribution\n",
    "\n",
    "sns.distplot(df['bmi'])"
   ]
  },
  {
   "cell_type": "code",
   "execution_count": 11,
   "id": "5cd9112b",
   "metadata": {
    "scrolled": false
   },
   "outputs": [
    {
     "data": {
      "text/plain": [
       "<Axes: xlabel='age', ylabel='Density'>"
      ]
     },
     "execution_count": 11,
     "metadata": {},
     "output_type": "execute_result"
    },
    {
     "data": {
      "image/png": "[encoded data removed]",
      "text/plain": [
       "<Figure size 640x480 with 1 Axes>"
      ]
     },
     "metadata": {},
     "output_type": "display_data"
    }
   ],
   "source": [
    "# looking at age distribution\n",
    "\n",
    "sns.distplot(df['age'])"
   ]
  },
  {
   "cell_type": "code",
   "execution_count": 12,
   "id": "a7181ea6",
   "metadata": {},
   "outputs": [
    {
     "data": {
      "text/plain": [
       "<Axes: xlabel='charges', ylabel='Count'>"
      ]
     },
     "execution_count": 12,
     "metadata": {},
     "output_type": "execute_result"
    },
    {
     "data": {
      "image/png": "[encoded data removed]",
      "text/plain": [
       "<Figure size 640x480 with 1 Axes>"
      ]
     },
     "metadata": {},
     "output_type": "display_data"
    }
   ],
   "source": [
    "# looking at medical cost distribution\n",
    "\n",
    "sns.histplot(df['charges'])"
   ]
  },
  {
   "cell_type": "code",
   "execution_count": 13,
   "id": "ea8a9a26",
   "metadata": {},
   "outputs": [
    {
     "data": {
      "text/plain": [
       "<Axes: >"
      ]
     },
     "execution_count": 13,
     "metadata": {},
     "output_type": "execute_result"
    },
    {
     "data": {
      "image/png": "[encoded data removed]",
      "text/plain": [
       "<Figure size 640x480 with 1 Axes>"
      ]
     },
     "metadata": {},
     "output_type": "display_data"
    }
   ],
   "source": [
    "# just to be safe, we also looking at their boxplot\n",
    "\n",
    "sns.boxplot(df['charges'])"
   ]
  },
  {
   "cell_type": "code",
   "execution_count": 14,
   "id": "6dc76290",
   "metadata": {},
   "outputs": [
    {
     "name": "stdout",
     "output_type": "stream",
     "text": [
      "mean of medical charges:  13270.422265141257\n",
      "median of medical charges:  9382.033\n"
     ]
    }
   ],
   "source": [
    "# its interesting because the charges data is skewed to the right, need to keep this in note in case we want to analyze it\n",
    "# just to be safe, let's measure its mean and median\n",
    "\n",
    "df_charges_mean = df['charges'].mean()\n",
    "df_charges_median = df['charges'].median()\n",
    "print('mean of medical charges: ', df_charges_mean)\n",
    "print('median of medical charges: ', df_charges_median)"
   ]
  },
  {
   "cell_type": "code",
   "execution_count": 18,
   "id": "46849eba",
   "metadata": {},
   "outputs": [
    {
     "name": "stdout",
     "output_type": "stream",
     "text": [
      "smoker population:  20.5\n",
      "high bmi population:  81.9\n"
     ]
    }
   ],
   "source": [
    "# how many smoker and overweight in the dataset\n",
    "\n",
    "df_smoker_pop = (df['smoker'] == 'yes').sum()\n",
    "df_high_bmi_pop = (df['bmi'] > 24.9).sum()\n",
    "print('smoker percentage: ', (df_smoker_pop/len(df)*100).round(1))\n",
    "print('high bmi percentage: ', (df_high_bmi_pop/len(df)*100).round(1))"
   ]
  },
  {
   "cell_type": "code",
   "execution_count": 19,
   "id": "fb498282",
   "metadata": {},
   "outputs": [
    {
     "name": "stdout",
     "output_type": "stream",
     "text": [
      "mean of medical charges with high bmi:  13936.6\n",
      "mean of medical charges with low bmi:  10253.3\n"
     ]
    }
   ],
   "source": [
    "# which one is more expensive medical cost, BMI above 24.9 or lower\n",
    "\n",
    "df_high_bmi = (df['bmi'] > 24.9)\n",
    "df_low_bmi = (df['bmi'] < 24.9)\n",
    "\n",
    "high_bmi_charges = df[df_high_bmi]['charges'].mean()\n",
    "low_bmi_charges = df[df_low_bmi]['charges'].mean()\n",
    "\n",
    "print('mean of medical charges with high bmi: ', high_bmi_charges.round(1))\n",
    "print('mean of medical charges with low bmi: ',low_bmi_charges.round(1))"
   ]
  },
  {
   "cell_type": "code",
   "execution_count": 44,
   "id": "dd874476",
   "metadata": {},
   "outputs": [
    {
     "name": "stdout",
     "output_type": "stream",
     "text": [
      "median of medical charges as smoker:  32050.2\n",
      "median of medical charges as non_smoker:  8434.3\n"
     ]
    }
   ],
   "source": [
    "# looks like it is confirmed, high obesity = high medical cost\n",
    "# let's see the same hold true for smokers\n",
    "\n",
    "df_smoker = (df['smoker']=='yes')\n",
    "df_non_smoker = (df['smoker']=='no')\n",
    "\n",
    "smoker_charges = df[df_smoker]['charges'].mean()\n",
    "non_smoker_charges = df[df_non_smoker]['charges'].mean()\n",
    "\n",
    "print('median of medical charges as smoker: ',smoker_charges.round(1))\n",
    "print('median of medical charges as non_smoker: ', non_smoker_charges.round(1))"
   ]
  },
  {
   "cell_type": "code",
   "execution_count": 35,
   "id": "0d67df7a",
   "metadata": {},
   "outputs": [],
   "source": [
    "# the same also true for smokers\n",
    "# we conclude that by ranking of least to most expensive medical charges are:\n",
    "# non_smoker < low bmi < high bmi < smoker\n",
    "# considering the higher risk for smoker, let's focus our analysis theme as smokers"
   ]
  },
  {
   "cell_type": "code",
   "execution_count": null,
   "id": "81c9d978",
   "metadata": {},
   "outputs": [],
   "source": []
  },
  {
   "cell_type": "code",
   "execution_count": null,
   "id": "8c5ba2b3",
   "metadata": {},
   "outputs": [],
   "source": []
  }
 ],
 "metadata": {
  "kernelspec": {
   "display_name": "Python 3 (ipykernel)",
   "language": "python",
   "name": "python3"
  },
  "language_info": {
   "codemirror_mode": {
    "name": "ipython",
    "version": 3
   },
   "file_extension": ".py",
   "mimetype": "text/x-python",
   "name": "python",
   "nbconvert_exporter": "python",
   "pygments_lexer": "ipython3",
   "version": "3.10.9"
  }
 },
 "nbformat": 4,
 "nbformat_minor": 5
}
